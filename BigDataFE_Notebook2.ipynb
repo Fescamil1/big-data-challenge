{
  "nbformat": 4,
  "nbformat_minor": 0,
  "metadata": {
    "colab": {
      "name": "BigDataFE_Notebook2.ipynb",
      "provenance": [],
      "collapsed_sections": []
    },
    "kernelspec": {
      "name": "python3",
      "display_name": "Python 3"
    },
    "language_info": {
      "name": "python"
    }
  },
  "cells": [
    {
      "cell_type": "code",
      "metadata": {
        "colab": {
          "base_uri": "https://localhost:8080/"
        },
        "id": "QVdPDgX4r183",
        "outputId": "a5d05f61-820e-4af5-8130-7e253fc9f2b5"
      },
      "source": [
        "import os\n",
        "# Find the latest version of spark 3.0  from http://www.apache.org/dist/spark/ and enter as the spark version\n",
        "# For example:\n",
        "# spark_version = 'spark-3.0.3'\n",
        "spark_version = 'spark-3.1.2'\n",
        "os.environ['SPARK_VERSION']=spark_version\n",
        "\n",
        "# Install Spark and Java\n",
        "!apt-get update\n",
        "!apt-get install openjdk-8-jdk-headless -qq > /dev/null\n",
        "!wget -q http://www.apache.org/dist/spark/$SPARK_VERSION/$SPARK_VERSION-bin-hadoop2.7.tgz\n",
        "!tar xf $SPARK_VERSION-bin-hadoop2.7.tgz\n",
        "!pip install -q findspark\n",
        "\n",
        "# Set Environment Variables\n",
        "import os\n",
        "os.environ[\"JAVA_HOME\"] = \"/usr/lib/jvm/java-8-openjdk-amd64\"\n",
        "os.environ[\"SPARK_HOME\"] = f\"/content/{spark_version}-bin-hadoop2.7\"\n",
        "\n",
        "# Start a SparkSession\n",
        "import findspark\n",
        "findspark.init()"
      ],
      "execution_count": 1,
      "outputs": [
        {
          "output_type": "stream",
          "name": "stdout",
          "text": [
            "\r0% [Working]\r            \rGet:1 https://cloud.r-project.org/bin/linux/ubuntu bionic-cran40/ InRelease [3,626 B]\n",
            "Ign:2 https://developer.download.nvidia.com/compute/cuda/repos/ubuntu1804/x86_64  InRelease\n",
            "Get:3 http://security.ubuntu.com/ubuntu bionic-security InRelease [88.7 kB]\n",
            "Hit:4 http://ppa.launchpad.net/c2d4u.team/c2d4u4.0+/ubuntu bionic InRelease\n",
            "Ign:5 https://developer.download.nvidia.com/compute/machine-learning/repos/ubuntu1804/x86_64  InRelease\n",
            "Hit:6 https://developer.download.nvidia.com/compute/cuda/repos/ubuntu1804/x86_64  Release\n",
            "Hit:7 http://archive.ubuntu.com/ubuntu bionic InRelease\n",
            "Hit:8 https://developer.download.nvidia.com/compute/machine-learning/repos/ubuntu1804/x86_64  Release\n",
            "Get:9 http://archive.ubuntu.com/ubuntu bionic-updates InRelease [88.7 kB]\n",
            "Hit:10 http://ppa.launchpad.net/cran/libgit2/ubuntu bionic InRelease\n",
            "Hit:11 http://ppa.launchpad.net/deadsnakes/ppa/ubuntu bionic InRelease\n",
            "Get:12 http://archive.ubuntu.com/ubuntu bionic-backports InRelease [74.6 kB]\n",
            "Hit:13 http://ppa.launchpad.net/graphics-drivers/ppa/ubuntu bionic InRelease\n",
            "Get:16 http://security.ubuntu.com/ubuntu bionic-security/universe amd64 Packages [1,430 kB]\n",
            "Get:17 http://archive.ubuntu.com/ubuntu bionic-updates/main amd64 Packages [2,800 kB]\n",
            "Get:18 http://archive.ubuntu.com/ubuntu bionic-updates/universe amd64 Packages [2,208 kB]\n",
            "Fetched 6,695 kB in 4s (1,779 kB/s)\n",
            "Reading package lists... Done\n"
          ]
        }
      ]
    },
    {
      "cell_type": "code",
      "metadata": {
        "colab": {
          "base_uri": "https://localhost:8080/"
        },
        "id": "KK1Idf2Or2AQ",
        "outputId": "cdfe87a2-44e7-421b-d974-986616f71346"
      },
      "source": [
        "!wget https://jdbc.postgresql.org/download/postgresql-42.2.9.jar"
      ],
      "execution_count": 2,
      "outputs": [
        {
          "output_type": "stream",
          "name": "stdout",
          "text": [
            "--2021-10-03 02:33:50--  https://jdbc.postgresql.org/download/postgresql-42.2.9.jar\n",
            "Resolving jdbc.postgresql.org (jdbc.postgresql.org)... 72.32.157.228, 2001:4800:3e1:1::228\n",
            "Connecting to jdbc.postgresql.org (jdbc.postgresql.org)|72.32.157.228|:443... connected.\n",
            "HTTP request sent, awaiting response... 200 OK\n",
            "Length: 914037 (893K) [application/java-archive]\n",
            "Saving to: ‘postgresql-42.2.9.jar’\n",
            "\n",
            "postgresql-42.2.9.j 100%[===================>] 892.61K  --.-KB/s    in 0.08s   \n",
            "\n",
            "2021-10-03 02:33:50 (10.4 MB/s) - ‘postgresql-42.2.9.jar’ saved [914037/914037]\n",
            "\n"
          ]
        }
      ]
    },
    {
      "cell_type": "code",
      "metadata": {
        "id": "bNeT0ygMr2HM"
      },
      "source": [
        "from pyspark.sql import SparkSession\n",
        "spark = SparkSession.builder.appName(\"CloudETL\").config(\"spark.driver.extraClassPath\",\"/content/postgresql-42.2.9.jar\").getOrCreate()"
      ],
      "execution_count": 3,
      "outputs": []
    },
    {
      "cell_type": "code",
      "metadata": {
        "colab": {
          "base_uri": "https://localhost:8080/"
        },
        "id": "3sEPBON2wTjy",
        "outputId": "ff7ef924-ff5b-4d8f-cc9d-8831a2346cb1"
      },
      "source": [
        "from pyspark import SparkFiles\n",
        "# Load in data from S3 into a DataFrame\n",
        "url = \"https://s3.amazonaws.com/amazon-reviews-pds/tsv/amazon_reviews_us_Video_DVD_v1_00.tsv.gz\"\n",
        "spark.sparkContext.addFile(url)\n",
        "\n",
        "df = spark.read.option('header', 'true').csv(SparkFiles.get(\"amazon_reviews_us_Video_DVD_v1_00.tsv.gz\"), inferSchema=True, sep='\\t')\n",
        "df.show(10)"
      ],
      "execution_count": 4,
      "outputs": [
        {
          "output_type": "stream",
          "name": "stdout",
          "text": [
            "+-----------+-----------+--------------+----------+--------------+--------------------+----------------+-----------+-------------+-----------+----+-----------------+--------------------+--------------------+-----------+\n",
            "|marketplace|customer_id|     review_id|product_id|product_parent|       product_title|product_category|star_rating|helpful_votes|total_votes|vine|verified_purchase|     review_headline|         review_body|review_date|\n",
            "+-----------+-----------+--------------+----------+--------------+--------------------+----------------+-----------+-------------+-----------+----+-----------------+--------------------+--------------------+-----------+\n",
            "|         US|   27288431| R33UPQQUZQEM8|B005T4ND06|     400024643|Yoga for Movement...|       Video DVD|          5|            3|          3|   N|                Y|This was a gift f...|This was a gift f...| 2015-08-31|\n",
            "|         US|   13722556|R3IKTNQQPD9662|B004EPZ070|     685335564|  Something Borrowed|       Video DVD|          5|            0|          0|   N|                Y|          Five Stars| Teats my heart out.| 2015-08-31|\n",
            "|         US|   20381037|R3U27V5QMCP27T|B005S9EKCW|     922008804|Les Miserables (2...|       Video DVD|          5|            1|          1|   N|                Y|        Great movie!|        Great movie.| 2015-08-31|\n",
            "|         US|   24852644|R2TOH2QKNK4IOC|B00FC1ZCB4|     326560548|Alien Anthology a...|       Video DVD|          5|            0|          1|   N|                Y|             Amazing|My husband was so...| 2015-08-31|\n",
            "|         US|   15556113|R2XQG5NJ59UFMY|B002ZG98Z0|     637495038|  Sex and the City 2|       Video DVD|          5|            0|          0|   N|                Y|          Five Stars|   Love this series.| 2015-08-31|\n",
            "|         US|    6132474|R1N1KHBRR4ZTX3|B00X8RONBO|     896602391|When Calls The He...|       Video DVD|          5|            0|          0|   N|                Y|          Five Stars|            love it!| 2015-08-31|\n",
            "|         US|   48049524|R3OM9S0TCBP38K|B000CEXFZG|     115883890|Teen Titans - The...|       Video DVD|          5|            0|          0|   N|                Y|               Great|Better than the c...| 2015-08-31|\n",
            "|         US|    3282516|R1W4S949ZRCTBW|B00ID8H8EW|     977932459|      Generation War|       Video DVD|          5|            0|          0|   N|                Y|          Five Stars|I really emjoyed ...| 2015-08-31|\n",
            "|         US|   51771179|R18JL1NNQAZFV2|B000TGJ8IU|     840084782|Troy  (Director's...|       Video DVD|          5|            0|          0|   N|                Y|          Five Stars|Awesome movie, we...| 2015-08-31|\n",
            "|         US|   31816501|R1LP6PR06OPYUX|B00DPMPTDS|     262144920|Faith Aka the Gre...|       Video DVD|          4|            0|          0|   N|                Y|a beautiful fanta...|...a beautiful fa...| 2015-08-31|\n",
            "+-----------+-----------+--------------+----------+--------------+--------------------+----------------+-----------+-------------+-----------+----+-----------------+--------------------+--------------------+-----------+\n",
            "only showing top 10 rows\n",
            "\n"
          ]
        }
      ]
    },
    {
      "cell_type": "markdown",
      "metadata": {
        "id": "fqsN1NWu_t_k"
      },
      "source": [
        "Drop duplicates and incomplete rows"
      ]
    },
    {
      "cell_type": "code",
      "metadata": {
        "colab": {
          "base_uri": "https://localhost:8080/"
        },
        "id": "zquIIeAZwTri",
        "outputId": "1107b567-ecb5-4a82-e786-d07f7ef004ea"
      },
      "source": [
        "print(df.count())\n",
        "df =df.dropna();\n",
        "print(df.count())"
      ],
      "execution_count": 5,
      "outputs": [
        {
          "output_type": "stream",
          "name": "stdout",
          "text": [
            "5069140\n",
            "5068421\n"
          ]
        }
      ]
    },
    {
      "cell_type": "code",
      "metadata": {
        "colab": {
          "base_uri": "https://localhost:8080/"
        },
        "id": "W6PimSzrwTu2",
        "outputId": "9ed1af22-0f64-4187-c626-76ccf5e16e05"
      },
      "source": [
        "print(df.count())\n",
        "df=df.drop_duplicates()\n",
        "print(df.count())"
      ],
      "execution_count": 6,
      "outputs": [
        {
          "output_type": "stream",
          "name": "stdout",
          "text": [
            "5068421\n",
            "5068421\n"
          ]
        }
      ]
    },
    {
      "cell_type": "code",
      "metadata": {
        "colab": {
          "base_uri": "https://localhost:8080/"
        },
        "id": "dMUbpEESwT-d",
        "outputId": "6bfe4a69-0c6d-4c9f-bd5b-3fe712ccaf66"
      },
      "source": [
        "#examine the schema\n",
        "df.printSchema()"
      ],
      "execution_count": 7,
      "outputs": [
        {
          "output_type": "stream",
          "name": "stdout",
          "text": [
            "root\n",
            " |-- marketplace: string (nullable = true)\n",
            " |-- customer_id: integer (nullable = true)\n",
            " |-- review_id: string (nullable = true)\n",
            " |-- product_id: string (nullable = true)\n",
            " |-- product_parent: integer (nullable = true)\n",
            " |-- product_title: string (nullable = true)\n",
            " |-- product_category: string (nullable = true)\n",
            " |-- star_rating: integer (nullable = true)\n",
            " |-- helpful_votes: integer (nullable = true)\n",
            " |-- total_votes: integer (nullable = true)\n",
            " |-- vine: string (nullable = true)\n",
            " |-- verified_purchase: string (nullable = true)\n",
            " |-- review_headline: string (nullable = true)\n",
            " |-- review_body: string (nullable = true)\n",
            " |-- review_date: string (nullable = true)\n",
            "\n"
          ]
        }
      ]
    },
    {
      "cell_type": "code",
      "metadata": {
        "id": "Dayc5YQjwUBr"
      },
      "source": [
        "#change format of review_date from string to date\n",
        "from pyspark.sql.functions import *\n",
        "from pyspark.sql.functions import col\n",
        "from pyspark.sql.types import StringType,BooleanType,DateType\n",
        "df =df.withColumn('review_date',col('review_date').cast(DateType()))"
      ],
      "execution_count": 9,
      "outputs": []
    },
    {
      "cell_type": "code",
      "metadata": {
        "colab": {
          "base_uri": "https://localhost:8080/"
        },
        "id": "AThRgRVqYl5e",
        "outputId": "929fb826-87b7-41ad-fe58-48c1f6f85598"
      },
      "source": [
        "df.printSchema()"
      ],
      "execution_count": 10,
      "outputs": [
        {
          "output_type": "stream",
          "name": "stdout",
          "text": [
            "root\n",
            " |-- marketplace: string (nullable = true)\n",
            " |-- customer_id: integer (nullable = true)\n",
            " |-- review_id: string (nullable = true)\n",
            " |-- product_id: string (nullable = true)\n",
            " |-- product_parent: integer (nullable = true)\n",
            " |-- product_title: string (nullable = true)\n",
            " |-- product_category: string (nullable = true)\n",
            " |-- star_rating: integer (nullable = true)\n",
            " |-- helpful_votes: integer (nullable = true)\n",
            " |-- total_votes: integer (nullable = true)\n",
            " |-- vine: string (nullable = true)\n",
            " |-- verified_purchase: string (nullable = true)\n",
            " |-- review_headline: string (nullable = true)\n",
            " |-- review_body: string (nullable = true)\n",
            " |-- review_date: date (nullable = true)\n",
            "\n"
          ]
        }
      ]
    },
    {
      "cell_type": "markdown",
      "metadata": {
        "id": "XaoPLmzQcSHn"
      },
      "source": [
        "Create Table Dataframes"
      ]
    },
    {
      "cell_type": "code",
      "metadata": {
        "colab": {
          "base_uri": "https://localhost:8080/"
        },
        "id": "fJFhvkEbwUFB",
        "outputId": "8fa4d31c-3441-4c83-b58c-63f5b4acc98c"
      },
      "source": [
        "review_id_df= df.select(['review_id','customer_id','product_id','product_parent','review_date'])\n",
        "review_id_df.show()"
      ],
      "execution_count": 11,
      "outputs": [
        {
          "output_type": "stream",
          "name": "stdout",
          "text": [
            "+--------------+-----------+----------+--------------+-----------+\n",
            "|     review_id|customer_id|product_id|product_parent|review_date|\n",
            "+--------------+-----------+----------+--------------+-----------+\n",
            "|R1005M0EAS6Q9U|   12077103|B00VUK505O|      69985058| 2015-07-21|\n",
            "|R100AJQA6PHRS3|   34193335|B0000CG8HQ|     396111937| 2004-07-02|\n",
            "|R100P4A9IY1O39|   26305542|B00GB0OV1C|     507977556| 2014-04-30|\n",
            "|R100QA0LZ39480|    5874616|B000U1ZV6W|     427231257| 2015-01-08|\n",
            "|R10119LK56IJO4|   50859438|B00005MP58|      22701133| 2013-01-14|\n",
            "|R10122LZFC6IUV|   12325534|B004TJ1H3C|     961261650| 2015-01-16|\n",
            "|R10168OWZ66QZO|   44723143|B00001PE4D|     104267530| 2001-03-21|\n",
            "|R101DMT5D0HEWH|   52878930|B00LLQ2A2S|     735480698| 2015-01-04|\n",
            "|R101E0NW9RIGX0|   35565191|B003QWVPT4|     339765617| 2014-10-20|\n",
            "|R101OZ414P7ARI|    2624502|B00FXB8RRO|     737158350| 2014-12-23|\n",
            "|R101R4FIHCUONZ|   42559842|B000PKG69O|     755015170| 2014-02-07|\n",
            "|R101U37NQETQMP|   36403248|B00003CXWM|      67501200| 2013-01-27|\n",
            "|R101UN1Y26WGQ3|   23792984|B00DS79GY8|     425979744| 2014-10-14|\n",
            "|R1027YFOX85498|   51294745|B001C8W7EQ|     213530598| 2009-06-24|\n",
            "|R1029GSHH0YZSH|   11313273|B000CNESU8|     622694497| 2014-11-08|\n",
            "|R102CL6SGG9KVW|   19705254|0790740826|     562237523| 2010-09-09|\n",
            "|R102S9O9J6X2UN|   52941764|B00007G1X1|     410965871| 2003-06-26|\n",
            "|R102T8VRXJEARK|   22200162|B001BWD6YS|     885851513| 2008-09-04|\n",
            "|R1030NP86BGXBH|   37758987|B000RO9PU0|     369047683| 2008-02-08|\n",
            "|R1031QQ8JVXFXN|   18857629|B000ION5SC|     859389176| 2013-03-28|\n",
            "+--------------+-----------+----------+--------------+-----------+\n",
            "only showing top 20 rows\n",
            "\n"
          ]
        }
      ]
    },
    {
      "cell_type": "code",
      "metadata": {
        "colab": {
          "base_uri": "https://localhost:8080/"
        },
        "id": "FJuhcLbPaQTV",
        "outputId": "ed9b88df-26d2-4af0-bfd0-f932da9e01c9"
      },
      "source": [
        "products_df = df.select(['product_id','product_title'])\n",
        "products_df.show()"
      ],
      "execution_count": 12,
      "outputs": [
        {
          "output_type": "stream",
          "name": "stdout",
          "text": [
            "+----------+--------------------+\n",
            "|product_id|       product_title|\n",
            "+----------+--------------------+\n",
            "|B00VUK505O|Lazarus Effect, T...|\n",
            "|B0000CG8HQ|    Aria and Friends|\n",
            "|B00GB0OV1C|  Chipmunk Adventure|\n",
            "|B000U1ZV6W|4 Film Favorites:...|\n",
            "|B00005MP58|Pride and Prejudi...|\n",
            "|B004TJ1H3C|SGU: Stargate Uni...|\n",
            "|B00001PE4D|    Cruel Intentions|\n",
            "|B00LLQ2A2S|How We Got to Now...|\n",
            "|B003QWVPT4|Why Did I Get Mar...|\n",
            "|B00FXB8RRO|Attack on Titan, ...|\n",
            "|B000PKG69O|    Hudson Hawk (Ws)|\n",
            "|B00003CXWM|       Heartbreakers|\n",
            "|B00DS79GY8|Veggie Tales: Mer...|\n",
            "|B001C8W7EQ|Burn Notice: Seas...|\n",
            "|B000CNESU8|Network (Two-Disc...|\n",
            "|0790740826|    On Deadly Ground|\n",
            "|B00007G1X1|Dark Shadows DVD ...|\n",
            "|B001BWD6YS|Motivate Your Min...|\n",
            "|B000RO9PU0|   Griffin & Phoenix|\n",
            "|B000ION5SC|Over The Hedge [2...|\n",
            "+----------+--------------------+\n",
            "only showing top 20 rows\n",
            "\n"
          ]
        }
      ]
    },
    {
      "cell_type": "code",
      "metadata": {
        "colab": {
          "base_uri": "https://localhost:8080/"
        },
        "id": "xz3HmtrjlHNh",
        "outputId": "d46d5537-be0d-454f-a92c-25b7dec8e447"
      },
      "source": [
        "print(products_df.count())\n",
        "products_df=products_df.drop_duplicates()\n",
        "print(products_df.count())"
      ],
      "execution_count": 13,
      "outputs": [
        {
          "output_type": "stream",
          "name": "stdout",
          "text": [
            "5068421\n",
            "297902\n"
          ]
        }
      ]
    },
    {
      "cell_type": "code",
      "metadata": {
        "colab": {
          "base_uri": "https://localhost:8080/"
        },
        "id": "ITPiA1PZ1qO_",
        "outputId": "b07349cd-712c-4e8a-d5ed-accbc37fc058"
      },
      "source": [
        "df.select(['customer_id']).distinct().count()"
      ],
      "execution_count": 14,
      "outputs": [
        {
          "output_type": "execute_result",
          "data": {
            "text/plain": [
              "2075812"
            ]
          },
          "metadata": {},
          "execution_count": 14
        }
      ]
    },
    {
      "cell_type": "code",
      "metadata": {
        "id": "H-QQzDf3aQWJ"
      },
      "source": [
        "customers_df=df.groupby('customer_id').agg(count('customer_id').alias('customer_count'))"
      ],
      "execution_count": 15,
      "outputs": []
    },
    {
      "cell_type": "code",
      "metadata": {
        "colab": {
          "base_uri": "https://localhost:8080/"
        },
        "id": "sF0SdYVX0MN8",
        "outputId": "2979415e-c029-4d2a-965c-f103530863a7"
      },
      "source": [
        "customers_df.show()"
      ],
      "execution_count": 16,
      "outputs": [
        {
          "output_type": "stream",
          "name": "stdout",
          "text": [
            "+-----------+--------------+\n",
            "|customer_id|customer_count|\n",
            "+-----------+--------------+\n",
            "|   25498831|             2|\n",
            "|   47490390|             3|\n",
            "|   32702184|            22|\n",
            "|   10206054|            16|\n",
            "|   42780745|             1|\n",
            "|   23105709|             2|\n",
            "|   36176703|            35|\n",
            "|   28707214|             3|\n",
            "|   45286909|           195|\n",
            "|   32142680|            77|\n",
            "|   50927426|             1|\n",
            "|   19540657|             2|\n",
            "|   15422036|             1|\n",
            "|   45763189|             9|\n",
            "|   38851882|            92|\n",
            "|   10704478|             1|\n",
            "|   35523976|            21|\n",
            "|   14564825|            13|\n",
            "|   35390414|             1|\n",
            "|   49243158|           274|\n",
            "+-----------+--------------+\n",
            "only showing top 20 rows\n",
            "\n"
          ]
        }
      ]
    },
    {
      "cell_type": "code",
      "metadata": {
        "colab": {
          "base_uri": "https://localhost:8080/"
        },
        "id": "EMRmkuDxaQZg",
        "outputId": "3f815d31-2fa1-4e43-c6b2-eb50aa6738cc"
      },
      "source": [
        "vine_df = df.select(['review_id','star_rating','helpful_votes','total_votes','vine'])\n",
        "vine_df.show()"
      ],
      "execution_count": 17,
      "outputs": [
        {
          "output_type": "stream",
          "name": "stdout",
          "text": [
            "+--------------+-----------+-------------+-----------+----+\n",
            "|     review_id|star_rating|helpful_votes|total_votes|vine|\n",
            "+--------------+-----------+-------------+-----------+----+\n",
            "|R1005M0EAS6Q9U|          5|            0|          1|   N|\n",
            "|R100AJQA6PHRS3|          1|           21|         29|   N|\n",
            "|R100P4A9IY1O39|          1|            0|         10|   N|\n",
            "|R100QA0LZ39480|          5|            0|          0|   N|\n",
            "|R10119LK56IJO4|          5|            0|          0|   N|\n",
            "|R10122LZFC6IUV|          5|            0|          0|   N|\n",
            "|R10168OWZ66QZO|          5|            1|          1|   N|\n",
            "|R101DMT5D0HEWH|          5|            1|          1|   N|\n",
            "|R101E0NW9RIGX0|          4|            0|          0|   N|\n",
            "|R101OZ414P7ARI|          5|            0|          0|   N|\n",
            "|R101R4FIHCUONZ|          3|            1|          1|   N|\n",
            "|R101U37NQETQMP|          5|            0|          0|   N|\n",
            "|R101UN1Y26WGQ3|          4|            2|          6|   N|\n",
            "|R1027YFOX85498|          4|            1|          1|   N|\n",
            "|R1029GSHH0YZSH|          5|            0|          0|   N|\n",
            "|R102CL6SGG9KVW|          5|            2|          3|   N|\n",
            "|R102S9O9J6X2UN|          5|           16|         16|   N|\n",
            "|R102T8VRXJEARK|          4|            0|          0|   N|\n",
            "|R1030NP86BGXBH|          5|           11|         12|   N|\n",
            "|R1031QQ8JVXFXN|          1|            0|         12|   N|\n",
            "+--------------+-----------+-------------+-----------+----+\n",
            "only showing top 20 rows\n",
            "\n"
          ]
        }
      ]
    },
    {
      "cell_type": "markdown",
      "metadata": {
        "id": "90W9vifGdeZA"
      },
      "source": [
        "Load Dataframes into Postgres SQL DB"
      ]
    },
    {
      "cell_type": "code",
      "metadata": {
        "id": "BOES2legaQcQ"
      },
      "source": [
        "# Configure settings for RDS\n",
        "mode = \"append\"\n",
        "jdbc_url=\"jdbc:postgresql://myprostgredb.cdhbjqbvqosf.us-east-2.rds.amazonaws.com:5432/my_data_class_db\"\n",
        "config = {\"user\":\"postgres\", \n",
        "          \"password\": \"postgres\", \n",
        "          \"driver\":\"org.postgresql.Driver\"}"
      ],
      "execution_count": 18,
      "outputs": []
    },
    {
      "cell_type": "code",
      "metadata": {
        "id": "c1C5uJg0dk-H"
      },
      "source": [
        "# Write DataFrame to review_id_table table in RDS\n",
        "review_id_df.write.jdbc(url=jdbc_url, table='review_id_table', mode=mode, properties=config)"
      ],
      "execution_count": 19,
      "outputs": []
    },
    {
      "cell_type": "code",
      "metadata": {
        "id": "lr985aVgdlF9"
      },
      "source": [
        "# Write DataFrame to products table in RDS ignore if data already exists\n",
        "\n",
        "products_df.write.jdbc(url=jdbc_url, table='products', mode='ignore', properties=config)"
      ],
      "execution_count": 28,
      "outputs": []
    },
    {
      "cell_type": "code",
      "metadata": {
        "id": "9Nwg7vD1dlSy"
      },
      "source": [
        "# Write DataFrame to customers table in RDS j mode \"ignore\" if data already exists\n",
        "\n",
        "customers_df.write.jdbc(url=jdbc_url, table='customers', mode='ignore', properties=config)"
      ],
      "execution_count": 27,
      "outputs": []
    },
    {
      "cell_type": "code",
      "metadata": {
        "id": "TyYvwNNwaQfa"
      },
      "source": [
        "# Write DataFrame to vine_table table in RDS\n",
        "\n",
        "vine_df.write.jdbc(url=jdbc_url, table='vine_table', mode=mode, properties=config)"
      ],
      "execution_count": 22,
      "outputs": []
    },
    {
      "cell_type": "code",
      "metadata": {
        "id": "rFJ8oSTbaQi4"
      },
      "source": [
        ""
      ],
      "execution_count": null,
      "outputs": []
    },
    {
      "cell_type": "code",
      "metadata": {
        "id": "799kbJPyaQvS"
      },
      "source": [
        ""
      ],
      "execution_count": null,
      "outputs": []
    },
    {
      "cell_type": "code",
      "metadata": {
        "id": "M3XcXyxLaQyK"
      },
      "source": [
        ""
      ],
      "execution_count": null,
      "outputs": []
    },
    {
      "cell_type": "code",
      "metadata": {
        "id": "jzRXXy4yaQ1Q"
      },
      "source": [
        ""
      ],
      "execution_count": null,
      "outputs": []
    },
    {
      "cell_type": "code",
      "metadata": {
        "id": "B_DR7xkSaQ4k"
      },
      "source": [
        ""
      ],
      "execution_count": null,
      "outputs": []
    },
    {
      "cell_type": "code",
      "metadata": {
        "id": "rL4bSk3VaQ7Z"
      },
      "source": [
        ""
      ],
      "execution_count": null,
      "outputs": []
    },
    {
      "cell_type": "code",
      "metadata": {
        "id": "td33ySOpaQ-m"
      },
      "source": [
        ""
      ],
      "execution_count": null,
      "outputs": []
    }
  ]
}